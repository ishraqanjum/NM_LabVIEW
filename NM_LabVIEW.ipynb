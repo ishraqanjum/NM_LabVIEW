{
 "cells": [
  {
   "cell_type": "code",
   "execution_count": 18,
   "metadata": {},
   "outputs": [],
   "source": [
    "# Function to initialize the simplex\n",
    "def initialize_simplex(x0, bounds):\n",
    "    n = len(x0)\n",
    "    simplex = np.zeros((n + 1, n))\n",
    "    simplex[0] = x0\n",
    "\n",
    "    for i in range(n):\n",
    "        point = np.array(x0)\n",
    "        point[i] = bounds[i][0]\n",
    "        simplex[i + 1] = point\n",
    "\n",
    "        point = np.array(x0)\n",
    "        point[i] = bounds[i][1]\n",
    "        simplex[i + 1] = point\n",
    "\n",
    "    return simplex, bounds"
   ]
  },
  {
   "cell_type": "code",
   "execution_count": 19,
   "metadata": {},
   "outputs": [],
   "source": [
    "# Function to sort simplex, calculate centroid, and perform reflection\n",
    "def sort_and_reflect(simplex, fs, bounds):\n",
    "    alpha=1.3487640718112321\n",
    "    # Sort simplex according to function values\n",
    "    idx = np.argsort(fs)\n",
    "    simplex = simplex[idx]\n",
    "    fs = fs[idx]\n",
    "\n",
    "    # Calculate the centroid of the simplex\n",
    "    xbar = np.mean(simplex[:-1], axis=0)\n",
    "\n",
    "    # Reflection\n",
    "    xr = xbar + alpha * (xbar - simplex[-1])\n",
    "    xr = np.clip(xr, bounds[:, 0], bounds[:, 1])\n",
    "\n",
    "    return simplex, fs, xbar, xr, bounds\n"
   ]
  },
  {
   "cell_type": "code",
   "execution_count": 38,
   "metadata": {},
   "outputs": [],
   "source": [
    "# Function to handle reflection and expansion\n",
    "def expansion_or_contraction(simplex, fs, xr, fxr, xbar, bounds):\n",
    "    gamma=2.139744408219208\n",
    "    rho=0.3740185211921033\n",
    "    if fs[0] <= fxr < fs[-2]:\n",
    "        # Successful reflection\n",
    "        simplex[-1] = xr\n",
    "        fs[-1] = fxr\n",
    "        x = xr\n",
    "        expansion = 1\n",
    "        return simplex, fs, xr, fxr, x, expansion, bounds\n",
    "    elif fxr < fs[0]:\n",
    "        # Expansion\n",
    "        xe = xbar + gamma * (xr - xbar)\n",
    "        xe = np.clip(xe, bounds[:, 0], bounds[:, 1])\n",
    "        expansion = 2\n",
    "        x = xe\n",
    "    else:\n",
    "        # Contraction\n",
    "        xc = xbar + rho * (simplex[-1] - xbar)\n",
    "        xc = np.clip(xc, bounds[:, 0], bounds[:, 1])\n",
    "        expansion = 3\n",
    "        x = xc\n",
    "    return simplex, fs, xr, fxr, x, expansion, bounds\n"
   ]
  },
  {
   "cell_type": "code",
   "execution_count": 21,
   "metadata": {},
   "outputs": [],
   "source": [
    "def update_simplex_after_expansion_or_contraction(simplex, fs, xr, fxr, x, fxx, expansion, bounds):\n",
    "    shrink = 0\n",
    "    sigma=0.5501390442296267\n",
    "    if expansion == 2:\n",
    "        if fxx < fxr:\n",
    "            simplex[-1] = x\n",
    "            fs[-1] = fxx\n",
    "        else:\n",
    "            simplex[-1] = xr\n",
    "            fs[-1] = fxr\n",
    "        return simplex, fs, bounds, shrink\n",
    "    elif expansion == 3:\n",
    "        if fxx < fs[-1]:\n",
    "            simplex[-1] = x\n",
    "            fs[-1] = fxx\n",
    "            return simplex, fs, bounds, shrink\n",
    "        else:\n",
    "            # Shrink\n",
    "            simplex[1:] = simplex[0] + sigma * (simplex[1:] - simplex[0])\n",
    "            shrink = 1\n",
    "            return simplex, bounds, shrink\n",
    "\n",
    "# alpha=1.3487640718112321, gamma=2.139744408219208, rho=0.3740185211921033, sigma=0.5501390442296267, tol=1e-4)"
   ]
  },
  {
   "cell_type": "code",
   "execution_count": 56,
   "metadata": {},
   "outputs": [
    {
     "name": "stdout",
     "output_type": "stream",
     "text": [
      "Best point: [2.00000392 3.0000025 ]\n",
      "Best function value: 2.1603313767433688e-11\n",
      "\n"
     ]
    }
   ],
   "source": [
    "import numpy as np\n",
    "\n",
    "# Define the objective function (you can replace this with any function you want)\n",
    "def objective_function(x):\n",
    "    return (x[0] - 2) ** 2 + (x[1] - 3) ** 2\n",
    "\n",
    "# Define the initial guess and bounds\n",
    "x0 = np.array([0.0, 0.0])\n",
    "bounds = np.array([[-5.0, 5.0], [-5.0, 5.0]])\n",
    "\n",
    "# Set algorithm parameters\n",
    "maxiter = 50  # Run one iteration\n",
    "# alpha = 1.0\n",
    "# gamma = 2.0\n",
    "# rho = 0.5\n",
    "# sigma = 0.5\n",
    "# tol = 1e-4\n",
    "\n",
    "# Initialize the simplex\n",
    "simplex, bounds = initialize_simplex(x0, bounds)\n",
    "\n",
    "# Evaluate the objective function at each vertex of the simplex\n",
    "fs = np.zeros(len(simplex))\n",
    "for i, point in enumerate(simplex):\n",
    "    fs[i] = objective_function(point)\n",
    "\n",
    "# Run one iteration of the algorithm\n",
    "for i in range(maxiter):\n",
    "    # Sort simplex, calculate centroid, and perform reflection\n",
    "    simplex, fs, xbar, xr, bounds = sort_and_reflect(simplex, fs, bounds)\n",
    "\n",
    "    # Evaluate the objective function at the reflected point\n",
    "    fxr = objective_function(xr)\n",
    "\n",
    "    # Handle reflection and expansion\n",
    "    simplex, fs, xr, fxr, x, expansion, bounds = expansion_or_contraction(simplex, fs, xr, fxr, xbar, bounds)\n",
    "    \n",
    "    fxx = objective_function(x)\n",
    "    \n",
    "    if expansion == 1:\n",
    "        continue\n",
    "\n",
    "    # Update the simplex after expansion or contraction\n",
    "    simplex, fs, bounds, shrink = update_simplex_after_expansion_or_contraction(simplex, fs, xr, fxr, x, fxx, expansion, bounds)\n",
    "    \n",
    "    if shrink == 0:\n",
    "        continue\n",
    "        \n",
    "    # Evaluate the objective function at the shrunk simplex\n",
    "    for i, point in enumerate(simplex):\n",
    "        fs[i] = objective_function(point)\n",
    "\n",
    "    print(f'Iteration {i + 1}:')\n",
    "    print(f'Simplex vertices: {simplex}')\n",
    "    print(f'Function values: {fs}')\n",
    "    print(f'Best function value: {fs[0]}\\n')\n",
    "    \n",
    "print(f'Best point: {simplex[0]}')\n",
    "print(f'Best function value: {fs[0]}\\n')\n"
   ]
  },
  {
   "cell_type": "code",
   "execution_count": 60,
   "metadata": {},
   "outputs": [
    {
     "name": "stdout",
     "output_type": "stream",
     "text": [
      "[0. 0.]\n"
     ]
    },
    {
     "data": {
      "text/plain": [
       "13.0"
      ]
     },
     "execution_count": 60,
     "metadata": {},
     "output_type": "execute_result"
    }
   ],
   "source": [
    "print(x0)                  #start point\n",
    "objective_function(x0)     #error of starting point"
   ]
  },
  {
   "cell_type": "code",
   "execution_count": 61,
   "metadata": {},
   "outputs": [
    {
     "name": "stdout",
     "output_type": "stream",
     "text": [
      "[2.00000392 3.0000025 ]\n"
     ]
    },
    {
     "data": {
      "text/plain": [
       "2.1603313767433688e-11"
      ]
     },
     "execution_count": 61,
     "metadata": {},
     "output_type": "execute_result"
    }
   ],
   "source": [
    "print(simplex[0])                     #optimized point\n",
    "objective_function(simplex[0])        #error of optimized point"
   ]
  }
 ],
 "metadata": {
  "kernelspec": {
   "display_name": "Python 3",
   "language": "python",
   "name": "python3"
  },
  "language_info": {
   "codemirror_mode": {
    "name": "ipython",
    "version": 3
   },
   "file_extension": ".py",
   "mimetype": "text/x-python",
   "name": "python",
   "nbconvert_exporter": "python",
   "pygments_lexer": "ipython3",
   "version": "3.8.5"
  }
 },
 "nbformat": 4,
 "nbformat_minor": 4
}
